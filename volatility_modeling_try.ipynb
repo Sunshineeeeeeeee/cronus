{
 "cells": [
  {
   "cell_type": "code",
   "execution_count": 12,
   "metadata": {},
   "outputs": [],
   "source": [
    "import pandas as pd\n",
    "import numpy as np\n",
    "import matplotlib.pyplot as plt\n",
    "import yfinance as yf\n",
    "import tensorflow as tf\n",
    "import datetime as dt"
   ]
  },
  {
   "cell_type": "code",
   "execution_count": 25,
   "metadata": {},
   "outputs": [
    {
     "data": {
      "text/plain": [
       "'2024-12-30'"
      ]
     },
     "execution_count": 25,
     "metadata": {},
     "output_type": "execute_result"
    }
   ],
   "source": [
    "import datetime as dt\n",
    "end = dt.datetime.now()\n",
    "start = (end - dt.timedelta(days=59))\n",
    "end = end.strftime(\"%Y-%m-%d\")\n",
    "start = start.strftime(\"%Y-%m-%d\")\n",
    "start"
   ]
  },
  {
   "cell_type": "code",
   "execution_count": null,
   "metadata": {},
   "outputs": [
    {
     "name": "stderr",
     "output_type": "stream",
     "text": [
      "[*********************100%***********************]  1 of 1 completed\n"
     ]
    }
   ],
   "source": [
    "ts = yf.download('AAPL', start=start, end=end, interval=\"5m\")"
   ]
  },
  {
   "cell_type": "code",
   "execution_count": 81,
   "metadata": {},
   "outputs": [],
   "source": [
    "ts[\"Return\"] = ts[\"Close\"].pct_change()"
   ]
  },
  {
   "cell_type": "markdown",
   "metadata": {},
   "source": [
    "Bayesi"
   ]
  },
  {
   "cell_type": "code",
   "execution_count": null,
   "metadata": {},
   "outputs": [],
   "source": []
  },
  {
   "cell_type": "code",
   "execution_count": null,
   "metadata": {},
   "outputs": [],
   "source": [
    "train, test = ts.iloc[:int(ts.shape[0]*0.8)], ts.iloc[int(ts.shape[0]*0.8):]"
   ]
  },
  {
   "cell_type": "code",
   "execution_count": 1,
   "metadata": {},
   "outputs": [],
   "source": [
    "url = \"https://www.forexfactory.com/calendar?month=dec.2024\""
   ]
  },
  {
   "cell_type": "code",
   "execution_count": 2,
   "metadata": {},
   "outputs": [
    {
     "name": "stdout",
     "output_type": "stream",
     "text": [
      "https://www.forexfactory.com/calendar?\n",
      "dec.2024\n"
     ]
    }
   ],
   "source": [
    "base, param = url.split(\"month=\")\n",
    "print(base)\n",
    "print(param)"
   ]
  },
  {
   "cell_type": "code",
   "execution_count": null,
   "metadata": {},
   "outputs": [
    {
     "name": "stdout",
     "output_type": "stream",
     "text": [
      "['dec.2024', 'jan.2025', 'feb.2025']\n"
     ]
    },
    {
     "ename": "ValueError",
     "evalue": "not enough values to unpack (expected 2, got 1)",
     "output_type": "error",
     "traceback": [
      "\u001b[0;31m---------------------------------------------------------------------------\u001b[0m",
      "\u001b[0;31mValueError\u001b[0m                                Traceback (most recent call last)",
      "Cell \u001b[0;32mIn[44], line 9\u001b[0m\n\u001b[1;32m      7\u001b[0m formatted_dates \u001b[38;5;241m=\u001b[39m []\n\u001b[1;32m      8\u001b[0m \u001b[38;5;28;01mfor\u001b[39;00m date \u001b[38;5;129;01min\u001b[39;00m proper_dates:\n\u001b[0;32m----> 9\u001b[0m     month, year \u001b[38;5;241m=\u001b[39m date\u001b[38;5;241m.\u001b[39msplit(\u001b[38;5;124m\"\u001b[39m\u001b[38;5;124m \u001b[39m\u001b[38;5;124m\"\u001b[39m)\n\u001b[1;32m     10\u001b[0m     month \u001b[38;5;241m=\u001b[39m month[:\u001b[38;5;241m3\u001b[39m]\n\u001b[1;32m     11\u001b[0m     formatted_date \u001b[38;5;241m=\u001b[39m \u001b[38;5;124mf\u001b[39m\u001b[38;5;124m\"\u001b[39m\u001b[38;5;132;01m{\u001b[39;00mmonth\u001b[38;5;132;01m}\u001b[39;00m\u001b[38;5;124m.\u001b[39m\u001b[38;5;132;01m{\u001b[39;00myear\u001b[38;5;132;01m}\u001b[39;00m\u001b[38;5;124m\"\u001b[39m\n",
      "\u001b[0;31mValueError\u001b[0m: not enough values to unpack (expected 2, got 1)"
     ]
    }
   ],
   "source": [
    "tryy = pd.date_range(start=\"2024-12\", end=\"2025-02\", freq=\"MS\")\n",
    "proper_dates = [date.strftime(\"%b.%Y\")for date in tryy]\n",
    "proper_dates = [date.lower() for date in proper_dates]\n"
   ]
  },
  {
   "cell_type": "code",
   "execution_count": 41,
   "metadata": {},
   "outputs": [
    {
     "data": {
      "text/plain": [
       "['aaadec.2024', 'aaajan.2025', 'aaafeb.2025']"
      ]
     },
     "execution_count": 41,
     "metadata": {},
     "output_type": "execute_result"
    }
   ],
   "source": [
    "import pandas as pd\n",
    "\n",
    "tryy = pd.date_range(start=\"2024-12\", end=\"2025-02\", freq=\"MS\")\n",
    "\n",
    "triple_a = \"aaa\"\n",
    "final_urls = [\n",
    "    f\"{triple_a}{date.strftime('%b.%Y').lower()}\"\n",
    "    for date in tryy\n",
    "]\n",
    "\n",
    "final_urls"
   ]
  },
  {
   "cell_type": "code",
   "execution_count": 18,
   "metadata": {},
   "outputs": [
    {
     "name": "stdout",
     "output_type": "stream",
     "text": [
      "December 2024\n"
     ]
    }
   ],
   "source": [
    "from datetime import datetime  # Import datetime module\n",
    "\n",
    "date_str = \"2024-12-01\"\n",
    "date_obj = datetime.strptime(date_str, \"%Y-%m-%d\")  # Convert string to datetime object\n",
    "formatted_date = date_obj.strftime(\"%B %Y\")  # Format as \"Month Year\"\n",
    "\n",
    "print(formatted_date)  # Output: \"December 2024\""
   ]
  },
  {
   "cell_type": "code",
   "execution_count": 45,
   "metadata": {},
   "outputs": [],
   "source": [
    "def generate_urls_to_scrape_ff(start_date, end_date):\n",
    "    \"\"\"\n",
    "    Scrape the Forex Factory calendar for dates between start_date and end_date.\n",
    "    \n",
    "    Args:\n",
    "        start_date (str): The start date in the format \"YYYY-MM\".\n",
    "        end_date (str): The end date in the format \"YYYY-MM\".\n",
    "    \"\"\"\n",
    "\n",
    "    url = \"https://www.forexfactory.com/calendar?month=\"\n",
    "    list_of_urls = []\n",
    "    for date in pd.date_range(start=start_date, end=end_date, freq='MS'):\n",
    "        list_of_urls.append(\n",
    "            f\"{url}{date.strftime(\"%b.%Y\").lower()}\"\n",
    "        )\n",
    "    return list_of_urls\n"
   ]
  },
  {
   "cell_type": "code",
   "execution_count": 47,
   "metadata": {},
   "outputs": [],
   "source": [
    "headers = {\n",
    "    \"User-Agent\": (\n",
    "        \"Mozilla/5.0 (Windows NT 10.0; Win64; x64) \"\n",
    "        \"AppleWebKit/537.36 (KHTML, like Gecko) \"\n",
    "        \"Chrome/91.0.4472.124 Safari/537.36\"\n",
    "    )\n",
    "}"
   ]
  },
  {
   "cell_type": "code",
   "execution_count": 50,
   "metadata": {},
   "outputs": [
    {
     "data": {
      "text/plain": [
       "True"
      ]
     },
     "execution_count": 50,
     "metadata": {},
     "output_type": "execute_result"
    }
   ],
   "source": [
    "sth = \"abcd\"\n",
    "\"ab\" in sth"
   ]
  },
  {
   "cell_type": "code",
   "execution_count": 49,
   "metadata": {},
   "outputs": [
    {
     "data": {
      "text/plain": [
       "dict"
      ]
     },
     "execution_count": 49,
     "metadata": {},
     "output_type": "execute_result"
    }
   ],
   "source": [
    "type(headers)"
   ]
  }
 ],
 "metadata": {
  "kernelspec": {
   "display_name": "base",
   "language": "python",
   "name": "python3"
  },
  "language_info": {
   "codemirror_mode": {
    "name": "ipython",
    "version": 3
   },
   "file_extension": ".py",
   "mimetype": "text/x-python",
   "name": "python",
   "nbconvert_exporter": "python",
   "pygments_lexer": "ipython3",
   "version": "3.12.2"
  }
 },
 "nbformat": 4,
 "nbformat_minor": 2
}
